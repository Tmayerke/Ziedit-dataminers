{
 "cells": [
  {
   "cell_type": "code",
   "execution_count": 30,
   "id": "b46e5046",
   "metadata": {},
   "outputs": [
    {
     "name": "stdout",
     "output_type": "stream",
     "text": [
      "       WAP001  WAP002  WAP003  WAP004  WAP005  WAP006  WAP007  WAP008  WAP009  \\\n",
      "0         100     100     100     100     100     100     100     100     100   \n",
      "1         100     100     100     100     100     100     100     100     100   \n",
      "2         100     100     100     100     100     100     100     -97     100   \n",
      "3         100     100     100     100     100     100     100     100     100   \n",
      "4         100     100     100     100     100     100     100     100     100   \n",
      "...       ...     ...     ...     ...     ...     ...     ...     ...     ...   \n",
      "19932     100     100     100     100     100     100     100     100     100   \n",
      "19933     100     100     100     100     100     100     100     100     100   \n",
      "19934     100     100     100     100     100     100     100     100     100   \n",
      "19935     100     100     100     100     100     100     100     100     100   \n",
      "19936     100     100     100     100     100     100     100     100     100   \n",
      "\n",
      "       WAP010  ...  WAP520  LONGITUDE      LATITUDE  FLOOR  BUILDINGID  \\\n",
      "0         100  ...     100 -7541.2643  4.864921e+06      2           1   \n",
      "1         100  ...     100 -7536.6212  4.864934e+06      2           1   \n",
      "2         100  ...     100 -7519.1524  4.864950e+06      2           1   \n",
      "3         100  ...     100 -7524.5704  4.864934e+06      2           1   \n",
      "4         100  ...     100 -7632.1436  4.864982e+06      0           0   \n",
      "...       ...  ...     ...        ...           ...    ...         ...   \n",
      "19932     100  ...     100 -7485.4686  4.864875e+06      3           1   \n",
      "19933     100  ...     100 -7390.6206  4.864836e+06      1           2   \n",
      "19934     100  ...     100 -7516.8415  4.864889e+06      3           1   \n",
      "19935     100  ...     100 -7537.3219  4.864896e+06      3           1   \n",
      "19936     100  ...     100 -7536.1658  4.864898e+06      3           1   \n",
      "\n",
      "       SPACEID  RELATIVEPOSITION  USERID  PHONEID   TIMESTAMP  \n",
      "0          106                 2       2       23  1371713733  \n",
      "1          106                 2       2       23  1371713691  \n",
      "2          103                 2       2       23  1371714095  \n",
      "3          102                 2       2       23  1371713807  \n",
      "4          122                 2      11       13  1369909710  \n",
      "...        ...               ...     ...      ...         ...  \n",
      "19932        1                 2      18       10  1371710683  \n",
      "19933      140                 2      18       10  1371710402  \n",
      "19934       13                 2      18       10  1371710921  \n",
      "19935      113                 2      18       10  1371711049  \n",
      "19936      112                 2      18       10  1371711025  \n",
      "\n",
      "[19937 rows x 529 columns]\n"
     ]
    }
   ],
   "source": [
    "import pandas as pd\n",
    "from sklearn import preprocessing\n",
    "from sklearn.metrics import pairwise\n",
    "from scipy.cluster.hierarchy import dendrogram, linkage, fcluster\n",
    "from sklearn.cluster import KMeans, AgglomerativeClustering  \n",
    "import matplotlib.pylab as plt\n",
    "import seaborn as sns\n",
    "from pandas.plotting import parallel_coordinates\n",
    "import matplotlib.pyplot as plt\n",
    "from scipy.spatial.distance import pdist\n",
    "\n",
    "df = pd.read_csv('CasusData.csv')\n",
    "df.shape   #find dimension of data frame\n",
    "df.head()  #show the 1st five rows\n",
    "print(df)  #show all the data"
   ]
  },
  {
   "cell_type": "code",
   "execution_count": 31,
   "id": "083eba9c",
   "metadata": {},
   "outputs": [
    {
     "name": "stdout",
     "output_type": "stream",
     "text": [
      "    USERID PHONEID\n",
      "0        1      14\n",
      "1        2      23\n",
      "2        3      16\n",
      "3        4      18\n",
      "4        5       3\n",
      "5        6      19\n",
      "6        7       6\n",
      "7        8       1\n",
      "8        9      14\n",
      "9       10       8\n",
      "10      11      13\n",
      "11      12      24\n",
      "12      13      17\n",
      "13      14       7\n",
      "14      15      11\n",
      "15      16      14\n",
      "16      17      22\n",
      "17      18      10\n"
     ]
    }
   ],
   "source": [
    "# Verwijder duplicaten in 'PHONEID' per 'USERID'\n",
    "unique_phones = df.drop_duplicates(subset=['USERID', 'PHONEID'])\n",
    "\n",
    "# Gebruik de groupby-functie om de unieke phoneid's per userid te groeperen\n",
    "result = unique_phones.groupby('USERID')['PHONEID'].agg(lambda x: ', '.join(map(str, x))).reset_index()\n",
    "print(result)"
   ]
  },
  {
   "cell_type": "code",
   "execution_count": 34,
   "id": "d20ad660",
   "metadata": {
    "scrolled": true
   },
   "outputs": [
    {
     "name": "stdout",
     "output_type": "stream",
     "text": [
      "       USERID  LONGITUDE      LATITUDE  cluster\n",
      "0           2 -7541.2643  4.864921e+06        0\n",
      "1           2 -7536.6212  4.864934e+06        0\n",
      "2           2 -7519.1524  4.864950e+06        0\n",
      "3           2 -7524.5704  4.864934e+06        0\n",
      "4          11 -7632.1436  4.864982e+06        2\n",
      "...       ...        ...           ...      ...\n",
      "19932      18 -7485.4686  4.864875e+06        0\n",
      "19933      18 -7390.6206  4.864836e+06        1\n",
      "19934      18 -7516.8415  4.864889e+06        0\n",
      "19935      18 -7537.3219  4.864896e+06        0\n",
      "19936      18 -7536.1658  4.864898e+06        0\n",
      "\n",
      "[19937 rows x 4 columns]\n"
     ]
    },
    {
     "data": {
      "image/png": "[encoded data removed]",
      "text/plain": [
       "<Figure size 640x480 with 1 Axes>"
      ]
     },
     "metadata": {},
     "output_type": "display_data"
    }
   ],
   "source": [
    "# Selecteer de relevante kolommen (longitude en latitude)\n",
    "locations = df[['LONGITUDE', 'LATITUDE']]\n",
    "\n",
    "# Kies het aantal clusters dat je wilt\n",
    "num_clusters = 3  # deze nog aan passen\n",
    "# Bereken de afstandsmaat voor de locaties (bijvoorbeeld euclidische afstand)\n",
    "distances = pdist(locations)\n",
    "\n",
    "# Voer agglomeratieve clustering uit\n",
    "agg_clustering = AgglomerativeClustering(n_clusters=num_clusters, linkage='ward')\n",
    "df['cluster'] = agg_clustering.fit_predict(locations)\n",
    "\n",
    "# Toon de resulterende dataframe met clusters\n",
    "print(df[['USERID', 'LONGITUDE', 'LATITUDE', 'cluster']])\n",
    "\n",
    "# Visualiseer een dendrogram (voorbeeld)\n",
    "linkage_matrix = linkage(distances, method='ward')\n",
    "dendrogram(linkage_matrix)\n",
    "plt.title('Hierarchical Clustering Dendrogram')\n",
    "plt.xlabel('Users')\n",
    "plt.ylabel('Distance')\n",
    "plt.show()"
   ]
  },
  {
   "cell_type": "code",
   "execution_count": null,
   "id": "4389f565",
   "metadata": {},
   "outputs": [],
   "source": []
  },
  {
   "cell_type": "code",
   "execution_count": null,
   "id": "32b90790",
   "metadata": {},
   "outputs": [],
   "source": []
  }
 ],
 "metadata": {
  "kernelspec": {
   "display_name": "Python 3 (ipykernel)",
   "language": "python",
   "name": "python3"
  },
  "language_info": {
   "codemirror_mode": {
    "name": "ipython",
    "version": 3
   },
   "file_extension": ".py",
   "mimetype": "text/x-python",
   "name": "python",
   "nbconvert_exporter": "python",
   "pygments_lexer": "ipython3",
   "version": "3.11.5"
  }
 },
 "nbformat": 4,
 "nbformat_minor": 5
}
